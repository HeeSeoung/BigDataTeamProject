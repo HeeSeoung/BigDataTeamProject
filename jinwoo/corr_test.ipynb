{
 "cells": [
  {
   "cell_type": "code",
   "execution_count": 1,
   "id": "a9dff7df",
   "metadata": {},
   "outputs": [
    {
     "name": "stdout",
     "output_type": "stream",
     "text": [
      "Correlation : 0.012278555778546764\n",
      "P-value : 0.8664749602061904\n"
     ]
    }
   ],
   "source": [
    "import pandas as pd\n",
    "from scipy.stats import pearsonr\n",
    "\n",
    "\n",
    "data = pd.read_csv('./data/tokyo_corona (1).csv')\n",
    "data['Case-Fatality'] = data['Case-Fatality'].apply(lambda x: float(x.replace('%', '')))\n",
    "cor = pearsonr(data['Gold'], data['Case-Fatality'])\n",
    "print('Correlation :', cor[0])\n",
    "print('P-value :', cor[1])"
   ]
  }
 ],
 "metadata": {
  "kernelspec": {
   "display_name": "Python 3 (ipykernel)",
   "language": "python",
   "name": "python3"
  },
  "language_info": {
   "codemirror_mode": {
    "name": "ipython",
    "version": 3
   },
   "file_extension": ".py",
   "mimetype": "text/x-python",
   "name": "python",
   "nbconvert_exporter": "python",
   "pygments_lexer": "ipython3",
   "version": "3.7.0"
  }
 },
 "nbformat": 4,
 "nbformat_minor": 5
}
