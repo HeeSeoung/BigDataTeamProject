{
 "cells": [
  {
   "cell_type": "code",
   "execution_count": 1,
   "id": "8f290f0e",
   "metadata": {},
   "outputs": [],
   "source": [
    "import pandas as pd\n",
    "import re"
   ]
  },
  {
   "cell_type": "code",
   "execution_count": 2,
   "id": "212bb8f0",
   "metadata": {},
   "outputs": [],
   "source": [
    "tokyo_path = './data/도쿄(네이버).csv'\n",
    "rio_path = './data/리우(네이버).csv'\n",
    "\n",
    "tokyo = pd.read_csv(tokyo_path)\n",
    "rio = pd.read_csv(rio_path)"
   ]
  },
  {
   "cell_type": "code",
   "execution_count": 3,
   "id": "b84ee010",
   "metadata": {},
   "outputs": [],
   "source": [
    "# 중복 개행 제거\n",
    "def multi_newline_delete(content):\n",
    "    content = re.sub('\\n{2,}', '\\n', content)\n",
    "    return content\n",
    "\n",
    "\n",
    "# 기사 내용과 상관 없는 내용 제거\n",
    "def only_contents(content):\n",
    "    content = content.split('\\n')[0]\n",
    "    return content"
   ]
  },
  {
   "cell_type": "code",
   "execution_count": 4,
   "id": "80e4840c",
   "metadata": {},
   "outputs": [],
   "source": [
    "tokyo['contents'] = tokyo['contents'].apply(multi_newline_delete)\n",
    "rio['contents'] = rio['contents'].apply(multi_newline_delete)\n",
    "\n",
    "tokyo['contents'] = tokyo['contents'].apply(only_contents)\n",
    "rio['contents'] = rio['contents'].apply(only_contents)"
   ]
  },
  {
   "cell_type": "code",
   "execution_count": 5,
   "id": "ac3124f8",
   "metadata": {},
   "outputs": [],
   "source": [
    "tokyo.to_csv('./data/pre_도쿄(네이버).csv', index=False, encoding='utf-8-sig')\n",
    "rio.to_csv('./data/pre_리우(네이버).csv', index=False, encoding='utf-8-sig')"
   ]
  }
 ],
 "metadata": {
  "kernelspec": {
   "display_name": "Python 3 (ipykernel)",
   "language": "python",
   "name": "python3"
  },
  "language_info": {
   "codemirror_mode": {
    "name": "ipython",
    "version": 3
   },
   "file_extension": ".py",
   "mimetype": "text/x-python",
   "name": "python",
   "nbconvert_exporter": "python",
   "pygments_lexer": "ipython3",
   "version": "3.7.0"
  }
 },
 "nbformat": 4,
 "nbformat_minor": 5
}
