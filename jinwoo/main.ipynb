{
 "cells": [
  {
   "cell_type": "code",
   "execution_count": 1,
   "id": "8f290f0e",
   "metadata": {},
   "outputs": [],
   "source": [
    "import pandas as pd\n",
    "import glob\n",
    "import preprocessing as pr\n",
    "from tqdm import tqdm"
   ]
  },
  {
   "cell_type": "code",
   "execution_count": 2,
   "id": "212bb8f0",
   "metadata": {},
   "outputs": [
    {
     "data": {
      "text/plain": [
       "['./data\\\\경향_도쿄.csv',\n",
       " './data\\\\도쿄(네이버).csv',\n",
       " './data\\\\도쿄(다음).csv',\n",
       " './data\\\\리우(네이버).csv',\n",
       " './data\\\\서울신문_리우.csv',\n",
       " './data\\\\서을신문_도쿄.csv']"
      ]
     },
     "execution_count": 2,
     "metadata": {},
     "output_type": "execute_result"
    }
   ],
   "source": [
    "df_path = glob.glob('./data/*.csv')\n",
    "df_path"
   ]
  },
  {
   "cell_type": "code",
   "execution_count": 3,
   "id": "00ed75db",
   "metadata": {},
   "outputs": [
    {
     "name": "stderr",
     "output_type": "stream",
     "text": [
      "100%|███████████████████████████████████████████████████████████████████████████████████████████████████████████████████████████████████████████████| 6/6 [01:16<00:00, 12.67s/it]\n"
     ]
    }
   ],
   "source": [
    "df_list = []\n",
    "for path in tqdm(df_path):\n",
    "    df = pd.read_csv(path)\n",
    "    df = df.dropna()\n",
    "    \n",
    "    df = pr.preprocessing(df, path)\n",
    "    df_list.append(df)"
   ]
  },
  {
   "cell_type": "code",
   "execution_count": 7,
   "id": "ee27538b",
   "metadata": {},
   "outputs": [
    {
     "data": {
      "text/plain": [
       "'313133'"
      ]
     },
     "execution_count": 7,
     "metadata": {},
     "output_type": "execute_result"
    }
   ],
   "source": [
    "'213123'.replace('2', '3')"
   ]
  },
  {
   "cell_type": "code",
   "execution_count": 9,
   "id": "55fbfda5",
   "metadata": {},
   "outputs": [],
   "source": [
    "for df, path in zip(df_list, df_path):\n",
    "    path = path.replace('data', 'pre_data')\n",
    "    df.to_csv(path, index=False, encoding='utf-8-sig')"
   ]
  },
  {
   "cell_type": "code",
   "execution_count": null,
   "id": "2d405cd9",
   "metadata": {},
   "outputs": [],
   "source": []
  }
 ],
 "metadata": {
  "kernelspec": {
   "display_name": "Python 3 (ipykernel)",
   "language": "python",
   "name": "python3"
  },
  "language_info": {
   "codemirror_mode": {
    "name": "ipython",
    "version": 3
   },
   "file_extension": ".py",
   "mimetype": "text/x-python",
   "name": "python",
   "nbconvert_exporter": "python",
   "pygments_lexer": "ipython3",
   "version": "3.7.0"
  }
 },
 "nbformat": 4,
 "nbformat_minor": 5
}
