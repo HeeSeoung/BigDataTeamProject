{
 "cells": [
  {
   "cell_type": "code",
   "execution_count": 1,
   "id": "8f290f0e",
   "metadata": {},
   "outputs": [],
   "source": [
    "import pandas as pd\n",
    "import glob\n",
    "import preprocessing as pr\n",
    "from tqdm import tqdm\n",
    "import platform\n",
    "import matplotlib.pyplot as plt"
   ]
  },
  {
   "cell_type": "code",
   "execution_count": 2,
   "id": "b5efb763",
   "metadata": {},
   "outputs": [],
   "source": [
    "if platform.system() == 'Darwin': #맥\n",
    "        plt.rc('font', family='AppleGothic')\n",
    "elif platform.system() == 'Windows': #윈도우\n",
    "        plt.rc('font', family='Malgun Gothic')\n",
    "elif platform.system() == 'Linux': #리눅스 (구글 콜랩)\n",
    "        #!wget \"https://www.wfonts.com/download/data/2016/06/13/malgun-gothic/malgun.ttf\"\n",
    "        #!mv malgun.ttf /usr/share/fonts/truetype/\n",
    "        #import matplotlib.font_manager as fm\n",
    "        #fm._rebuild()\n",
    "        plt.rc('font', family='Malgun Gothic')\n",
    "plt.rcParams['axes.unicode_minus'] = False #한글 폰트 사용시 마이너스 폰트 깨짐 해결\n",
    "#matplotlib 패키지 한글 깨짐 처리 끝"
   ]
  },
  {
   "cell_type": "code",
   "execution_count": 3,
   "id": "212bb8f0",
   "metadata": {},
   "outputs": [
    {
     "data": {
      "text/plain": [
       "['./pre_data\\\\경향_도쿄.csv',\n",
       " './pre_data\\\\도쿄(네이버).csv',\n",
       " './pre_data\\\\도쿄(다음).csv',\n",
       " './pre_data\\\\리우(네이버).csv',\n",
       " './pre_data\\\\서울신문_리우.csv',\n",
       " './pre_data\\\\서을신문_도쿄.csv']"
      ]
     },
     "execution_count": 3,
     "metadata": {},
     "output_type": "execute_result"
    }
   ],
   "source": [
    "df_path = glob.glob('./pre_data/*.csv')\n",
    "df_path"
   ]
  },
  {
   "cell_type": "code",
   "execution_count": 4,
   "id": "00ed75db",
   "metadata": {},
   "outputs": [
    {
     "name": "stderr",
     "output_type": "stream",
     "text": [
      "100%|████████████████████████████████████████████████████████████████████████████████████████████████████████████████████████████████████████████████████████████████████████████████████████████████████| 6/6 [00:00<00:00, 43.16it/s]\n"
     ]
    }
   ],
   "source": [
    "df_list = []\n",
    "for path in tqdm(df_path):\n",
    "    df = pd.read_csv(path)\n",
    "    df = df.dropna()\n",
    "    df = df.reset_index(drop=True)\n",
    "    df_list.append(df)\n",
    "data = pd.concat(df_list)"
   ]
  },
  {
   "cell_type": "code",
   "execution_count": 5,
   "id": "2d405cd9",
   "metadata": {},
   "outputs": [],
   "source": [
    "import visualizing as vi"
   ]
  },
  {
   "cell_type": "code",
   "execution_count": 6,
   "id": "e0656952",
   "metadata": {},
   "outputs": [
    {
     "data": {
      "image/png": "[encoded data removed]",
      "text/plain": [
       "<Figure size 432x288 with 1 Axes>"
      ]
     },
     "metadata": {
      "needs_background": "light"
     },
     "output_type": "display_data"
    }
   ],
   "source": [
    "vi.word_count_bar(data)"
   ]
  },
  {
   "cell_type": "code",
   "execution_count": null,
   "id": "a824abd8",
   "metadata": {},
   "outputs": [],
   "source": []
  }
 ],
 "metadata": {
  "kernelspec": {
   "display_name": "Python 3 (ipykernel)",
   "language": "python",
   "name": "python3"
  },
  "language_info": {
   "codemirror_mode": {
    "name": "ipython",
    "version": 3
   },
   "file_extension": ".py",
   "mimetype": "text/x-python",
   "name": "python",
   "nbconvert_exporter": "python",
   "pygments_lexer": "ipython3",
   "version": "3.7.0"
  }
 },
 "nbformat": 4,
 "nbformat_minor": 5
}
