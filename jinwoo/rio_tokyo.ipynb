{
 "cells": [
  {
   "cell_type": "code",
   "execution_count": 1,
   "id": "c29cf02c",
   "metadata": {},
   "outputs": [],
   "source": [
    "import pandas as pd"
   ]
  },
  {
   "cell_type": "code",
   "execution_count": 15,
   "id": "41f40425",
   "metadata": {},
   "outputs": [],
   "source": [
    "rio = pd.read_csv('./data/rio_athletes.csv')\n",
    "tokyo = pd.read_csv('./data/tokyo_athletes.csv')"
   ]
  },
  {
   "cell_type": "code",
   "execution_count": 17,
   "id": "dcf456be",
   "metadata": {},
   "outputs": [
    {
     "data": {
      "text/html": [
       "<div>\n",
       "<style scoped>\n",
       "    .dataframe tbody tr th:only-of-type {\n",
       "        vertical-align: middle;\n",
       "    }\n",
       "\n",
       "    .dataframe tbody tr th {\n",
       "        vertical-align: top;\n",
       "    }\n",
       "\n",
       "    .dataframe thead th {\n",
       "        text-align: right;\n",
       "    }\n",
       "</style>\n",
       "<table border=\"1\" class=\"dataframe\">\n",
       "  <thead>\n",
       "    <tr style=\"text-align: right;\">\n",
       "      <th></th>\n",
       "      <th>id</th>\n",
       "      <th>name</th>\n",
       "      <th>nationality</th>\n",
       "      <th>sex</th>\n",
       "      <th>dob</th>\n",
       "      <th>height</th>\n",
       "      <th>weight</th>\n",
       "      <th>sport</th>\n",
       "      <th>gold</th>\n",
       "      <th>silver</th>\n",
       "      <th>bronze</th>\n",
       "      <th>Nation</th>\n",
       "    </tr>\n",
       "  </thead>\n",
       "  <tbody>\n",
       "    <tr>\n",
       "      <th>0</th>\n",
       "      <td>736041664</td>\n",
       "      <td>A Jesus Garcia</td>\n",
       "      <td>ESP</td>\n",
       "      <td>male</td>\n",
       "      <td>10/17/69</td>\n",
       "      <td>1.72</td>\n",
       "      <td>64.0</td>\n",
       "      <td>athletics</td>\n",
       "      <td>0</td>\n",
       "      <td>0</td>\n",
       "      <td>0</td>\n",
       "      <td>Spain</td>\n",
       "    </tr>\n",
       "    <tr>\n",
       "      <th>1</th>\n",
       "      <td>532037425</td>\n",
       "      <td>A Lam Shin</td>\n",
       "      <td>KOR</td>\n",
       "      <td>female</td>\n",
       "      <td>9/23/86</td>\n",
       "      <td>1.68</td>\n",
       "      <td>56.0</td>\n",
       "      <td>fencing</td>\n",
       "      <td>0</td>\n",
       "      <td>0</td>\n",
       "      <td>0</td>\n",
       "      <td>Republic of Korea</td>\n",
       "    </tr>\n",
       "    <tr>\n",
       "      <th>2</th>\n",
       "      <td>435962603</td>\n",
       "      <td>Aaron Brown</td>\n",
       "      <td>CAN</td>\n",
       "      <td>male</td>\n",
       "      <td>5/27/92</td>\n",
       "      <td>1.98</td>\n",
       "      <td>79.0</td>\n",
       "      <td>athletics</td>\n",
       "      <td>0</td>\n",
       "      <td>0</td>\n",
       "      <td>1</td>\n",
       "      <td>Canada</td>\n",
       "    </tr>\n",
       "    <tr>\n",
       "      <th>3</th>\n",
       "      <td>521041435</td>\n",
       "      <td>Aaron Cook</td>\n",
       "      <td>MDA</td>\n",
       "      <td>male</td>\n",
       "      <td>1/2/91</td>\n",
       "      <td>1.83</td>\n",
       "      <td>80.0</td>\n",
       "      <td>taekwondo</td>\n",
       "      <td>0</td>\n",
       "      <td>0</td>\n",
       "      <td>0</td>\n",
       "      <td>Republic of Moldova</td>\n",
       "    </tr>\n",
       "    <tr>\n",
       "      <th>4</th>\n",
       "      <td>33922579</td>\n",
       "      <td>Aaron Gate</td>\n",
       "      <td>NZL</td>\n",
       "      <td>male</td>\n",
       "      <td>11/26/90</td>\n",
       "      <td>1.81</td>\n",
       "      <td>71.0</td>\n",
       "      <td>cycling</td>\n",
       "      <td>0</td>\n",
       "      <td>0</td>\n",
       "      <td>0</td>\n",
       "      <td>New Zealand</td>\n",
       "    </tr>\n",
       "    <tr>\n",
       "      <th>...</th>\n",
       "      <td>...</td>\n",
       "      <td>...</td>\n",
       "      <td>...</td>\n",
       "      <td>...</td>\n",
       "      <td>...</td>\n",
       "      <td>...</td>\n",
       "      <td>...</td>\n",
       "      <td>...</td>\n",
       "      <td>...</td>\n",
       "      <td>...</td>\n",
       "      <td>...</td>\n",
       "      <td>...</td>\n",
       "    </tr>\n",
       "    <tr>\n",
       "      <th>11533</th>\n",
       "      <td>265605954</td>\n",
       "      <td>Zurian Hechavarria</td>\n",
       "      <td>CUB</td>\n",
       "      <td>female</td>\n",
       "      <td>8/10/95</td>\n",
       "      <td>1.64</td>\n",
       "      <td>58.0</td>\n",
       "      <td>athletics</td>\n",
       "      <td>0</td>\n",
       "      <td>0</td>\n",
       "      <td>0</td>\n",
       "      <td>Cuba</td>\n",
       "    </tr>\n",
       "    <tr>\n",
       "      <th>11534</th>\n",
       "      <td>214461847</td>\n",
       "      <td>Zuzana Hejnova</td>\n",
       "      <td>CZE</td>\n",
       "      <td>female</td>\n",
       "      <td>12/19/86</td>\n",
       "      <td>1.73</td>\n",
       "      <td>63.0</td>\n",
       "      <td>athletics</td>\n",
       "      <td>0</td>\n",
       "      <td>0</td>\n",
       "      <td>0</td>\n",
       "      <td>Czech Republic</td>\n",
       "    </tr>\n",
       "    <tr>\n",
       "      <th>11535</th>\n",
       "      <td>88361042</td>\n",
       "      <td>di Xiao</td>\n",
       "      <td>CHN</td>\n",
       "      <td>male</td>\n",
       "      <td>5/14/91</td>\n",
       "      <td>1.85</td>\n",
       "      <td>100.0</td>\n",
       "      <td>wrestling</td>\n",
       "      <td>0</td>\n",
       "      <td>0</td>\n",
       "      <td>0</td>\n",
       "      <td>People's Republic of China</td>\n",
       "    </tr>\n",
       "    <tr>\n",
       "      <th>11536</th>\n",
       "      <td>900065925</td>\n",
       "      <td>le Quoc Toan Tran</td>\n",
       "      <td>VIE</td>\n",
       "      <td>male</td>\n",
       "      <td>4/5/89</td>\n",
       "      <td>1.60</td>\n",
       "      <td>56.0</td>\n",
       "      <td>weightlifting</td>\n",
       "      <td>0</td>\n",
       "      <td>0</td>\n",
       "      <td>0</td>\n",
       "      <td>Vietnam</td>\n",
       "    </tr>\n",
       "    <tr>\n",
       "      <th>11537</th>\n",
       "      <td>711404576</td>\n",
       "      <td>le Roux Hamman</td>\n",
       "      <td>RSA</td>\n",
       "      <td>male</td>\n",
       "      <td>1/6/92</td>\n",
       "      <td>1.85</td>\n",
       "      <td>70.0</td>\n",
       "      <td>athletics</td>\n",
       "      <td>0</td>\n",
       "      <td>0</td>\n",
       "      <td>0</td>\n",
       "      <td>South Africa</td>\n",
       "    </tr>\n",
       "  </tbody>\n",
       "</table>\n",
       "<p>11538 rows × 12 columns</p>\n",
       "</div>"
      ],
      "text/plain": [
       "              id                name nationality     sex       dob  height  \\\n",
       "0      736041664      A Jesus Garcia         ESP    male  10/17/69    1.72   \n",
       "1      532037425          A Lam Shin         KOR  female   9/23/86    1.68   \n",
       "2      435962603         Aaron Brown         CAN    male   5/27/92    1.98   \n",
       "3      521041435          Aaron Cook         MDA    male    1/2/91    1.83   \n",
       "4       33922579          Aaron Gate         NZL    male  11/26/90    1.81   \n",
       "...          ...                 ...         ...     ...       ...     ...   \n",
       "11533  265605954  Zurian Hechavarria         CUB  female   8/10/95    1.64   \n",
       "11534  214461847      Zuzana Hejnova         CZE  female  12/19/86    1.73   \n",
       "11535   88361042             di Xiao         CHN    male   5/14/91    1.85   \n",
       "11536  900065925   le Quoc Toan Tran         VIE    male    4/5/89    1.60   \n",
       "11537  711404576      le Roux Hamman         RSA    male    1/6/92    1.85   \n",
       "\n",
       "       weight          sport  gold  silver  bronze                      Nation  \n",
       "0        64.0      athletics     0       0       0                       Spain  \n",
       "1        56.0        fencing     0       0       0           Republic of Korea  \n",
       "2        79.0      athletics     0       0       1                      Canada  \n",
       "3        80.0      taekwondo     0       0       0         Republic of Moldova  \n",
       "4        71.0        cycling     0       0       0                 New Zealand  \n",
       "...       ...            ...   ...     ...     ...                         ...  \n",
       "11533    58.0      athletics     0       0       0                        Cuba  \n",
       "11534    63.0      athletics     0       0       0              Czech Republic  \n",
       "11535   100.0      wrestling     0       0       0  People's Republic of China  \n",
       "11536    56.0  weightlifting     0       0       0                     Vietnam  \n",
       "11537    70.0      athletics     0       0       0                South Africa  \n",
       "\n",
       "[11538 rows x 12 columns]"
      ]
     },
     "execution_count": 17,
     "metadata": {},
     "output_type": "execute_result"
    }
   ],
   "source": [
    "rio"
   ]
  },
  {
   "cell_type": "code",
   "execution_count": 18,
   "id": "07712eb9",
   "metadata": {},
   "outputs": [
    {
     "data": {
      "text/html": [
       "<div>\n",
       "<style scoped>\n",
       "    .dataframe tbody tr th:only-of-type {\n",
       "        vertical-align: middle;\n",
       "    }\n",
       "\n",
       "    .dataframe tbody tr th {\n",
       "        vertical-align: top;\n",
       "    }\n",
       "\n",
       "    .dataframe thead th {\n",
       "        text-align: right;\n",
       "    }\n",
       "</style>\n",
       "<table border=\"1\" class=\"dataframe\">\n",
       "  <thead>\n",
       "    <tr style=\"text-align: right;\">\n",
       "      <th></th>\n",
       "      <th>Name</th>\n",
       "      <th>NOC</th>\n",
       "      <th>Discipline</th>\n",
       "    </tr>\n",
       "  </thead>\n",
       "  <tbody>\n",
       "    <tr>\n",
       "      <th>0</th>\n",
       "      <td>AALERUD Katrine</td>\n",
       "      <td>Norway</td>\n",
       "      <td>Cycling Road</td>\n",
       "    </tr>\n",
       "    <tr>\n",
       "      <th>1</th>\n",
       "      <td>ABAD Nestor</td>\n",
       "      <td>Spain</td>\n",
       "      <td>Artistic Gymnastics</td>\n",
       "    </tr>\n",
       "    <tr>\n",
       "      <th>2</th>\n",
       "      <td>ABAGNALE Giovanni</td>\n",
       "      <td>Italy</td>\n",
       "      <td>Rowing</td>\n",
       "    </tr>\n",
       "    <tr>\n",
       "      <th>3</th>\n",
       "      <td>ABALDE Alberto</td>\n",
       "      <td>Spain</td>\n",
       "      <td>Basketball</td>\n",
       "    </tr>\n",
       "    <tr>\n",
       "      <th>4</th>\n",
       "      <td>ABALDE Tamara</td>\n",
       "      <td>Spain</td>\n",
       "      <td>Basketball</td>\n",
       "    </tr>\n",
       "    <tr>\n",
       "      <th>...</th>\n",
       "      <td>...</td>\n",
       "      <td>...</td>\n",
       "      <td>...</td>\n",
       "    </tr>\n",
       "    <tr>\n",
       "      <th>11080</th>\n",
       "      <td>ZWICKER Martin Detlef</td>\n",
       "      <td>Germany</td>\n",
       "      <td>Hockey</td>\n",
       "    </tr>\n",
       "    <tr>\n",
       "      <th>11081</th>\n",
       "      <td>ZWOLINSKA Klaudia</td>\n",
       "      <td>Poland</td>\n",
       "      <td>Canoe Slalom</td>\n",
       "    </tr>\n",
       "    <tr>\n",
       "      <th>11082</th>\n",
       "      <td>ZYKOVA Yulia</td>\n",
       "      <td>ROC</td>\n",
       "      <td>Shooting</td>\n",
       "    </tr>\n",
       "    <tr>\n",
       "      <th>11083</th>\n",
       "      <td>ZYUZINA Ekaterina</td>\n",
       "      <td>ROC</td>\n",
       "      <td>Sailing</td>\n",
       "    </tr>\n",
       "    <tr>\n",
       "      <th>11084</th>\n",
       "      <td>ZYZANSKA Sylwia</td>\n",
       "      <td>Poland</td>\n",
       "      <td>Archery</td>\n",
       "    </tr>\n",
       "  </tbody>\n",
       "</table>\n",
       "<p>11085 rows × 3 columns</p>\n",
       "</div>"
      ],
      "text/plain": [
       "                        Name      NOC           Discipline\n",
       "0            AALERUD Katrine   Norway         Cycling Road\n",
       "1                ABAD Nestor    Spain  Artistic Gymnastics\n",
       "2          ABAGNALE Giovanni    Italy               Rowing\n",
       "3             ABALDE Alberto    Spain           Basketball\n",
       "4              ABALDE Tamara    Spain           Basketball\n",
       "...                      ...      ...                  ...\n",
       "11080  ZWICKER Martin Detlef  Germany               Hockey\n",
       "11081      ZWOLINSKA Klaudia   Poland         Canoe Slalom\n",
       "11082           ZYKOVA Yulia      ROC             Shooting\n",
       "11083      ZYUZINA Ekaterina      ROC              Sailing\n",
       "11084        ZYZANSKA Sylwia   Poland              Archery\n",
       "\n",
       "[11085 rows x 3 columns]"
      ]
     },
     "execution_count": 18,
     "metadata": {},
     "output_type": "execute_result"
    }
   ],
   "source": [
    "tokyo"
   ]
  },
  {
   "cell_type": "code",
   "execution_count": 22,
   "id": "24847b92",
   "metadata": {},
   "outputs": [
    {
     "data": {
      "text/plain": [
       "(207, 206)"
      ]
     },
     "execution_count": 22,
     "metadata": {},
     "output_type": "execute_result"
    }
   ],
   "source": [
    "len(rio['Nation'].unique()), len(tokyo['NOC'].unique())"
   ]
  },
  {
   "cell_type": "code",
   "execution_count": 23,
   "id": "6829063c",
   "metadata": {},
   "outputs": [],
   "source": [
    "rio_set = set(rio['Nation'].unique())\n",
    "tokyo_set = set(tokyo['NOC'].unique())\n",
    "\n",
    "intersec = rio_set.intersection(tokyo_set)"
   ]
  },
  {
   "cell_type": "code",
   "execution_count": 24,
   "id": "fb4d5b9c",
   "metadata": {},
   "outputs": [
    {
     "data": {
      "text/plain": [
       "200"
      ]
     },
     "execution_count": 24,
     "metadata": {},
     "output_type": "execute_result"
    }
   ],
   "source": [
    "len(intersec)"
   ]
  },
  {
   "cell_type": "code",
   "execution_count": 25,
   "id": "b32c1592",
   "metadata": {},
   "outputs": [],
   "source": [
    "rio_inter_mask = rio['Nation'].isin(intersec)\n",
    "tokyo_inter_mask = tokyo['NOC'].isin(intersec)\n",
    "\n",
    "rio_inter = rio[rio_inter_mask]\n",
    "tokyo_inter = tokyo[tokyo_inter_mask]"
   ]
  },
  {
   "cell_type": "code",
   "execution_count": 31,
   "id": "e198733c",
   "metadata": {},
   "outputs": [],
   "source": [
    "rio_counter = rio_inter.groupby('Nation').size()\n",
    "tokyo_counter = tokyo_inter.groupby('NOC').size()"
   ]
  },
  {
   "cell_type": "code",
   "execution_count": 32,
   "id": "204fddcd",
   "metadata": {},
   "outputs": [
    {
     "data": {
      "text/plain": [
       "11183"
      ]
     },
     "execution_count": 32,
     "metadata": {},
     "output_type": "execute_result"
    }
   ],
   "source": [
    "rio_counter.sum()"
   ]
  },
  {
   "cell_type": "code",
   "execution_count": 33,
   "id": "6e7f3a29",
   "metadata": {},
   "outputs": [
    {
     "data": {
      "text/plain": [
       "10698"
      ]
     },
     "execution_count": 33,
     "metadata": {},
     "output_type": "execute_result"
    }
   ],
   "source": [
    "tokyo_counter.sum()"
   ]
  },
  {
   "cell_type": "code",
   "execution_count": 46,
   "id": "d6e8c9c9",
   "metadata": {},
   "outputs": [
    {
     "data": {
      "text/plain": [
       "<AxesSubplot:>"
      ]
     },
     "execution_count": 46,
     "metadata": {},
     "output_type": "execute_result"
    },
    {
     "data": {
      "image/png": "[encoded data removed]",
      "text/plain": [
       "<Figure size 432x288 with 1 Axes>"
      ]
     },
     "metadata": {
      "needs_background": "light"
     },
     "output_type": "display_data"
    }
   ],
   "source": [
    "rio_counter.sort_index().hist()"
   ]
  },
  {
   "cell_type": "code",
   "execution_count": 47,
   "id": "126f1f45",
   "metadata": {},
   "outputs": [
    {
     "data": {
      "text/plain": [
       "<AxesSubplot:>"
      ]
     },
     "execution_count": 47,
     "metadata": {},
     "output_type": "execute_result"
    },
    {
     "data": {
      "image/png": "[encoded data removed]",
      "text/plain": [
       "<Figure size 432x288 with 1 Axes>"
      ]
     },
     "metadata": {
      "needs_background": "light"
     },
     "output_type": "display_data"
    }
   ],
   "source": [
    "tokyo_counter.sort_index().hist()"
   ]
  },
  {
   "cell_type": "code",
   "execution_count": 41,
   "id": "bdd9284b",
   "metadata": {},
   "outputs": [
    {
     "data": {
      "text/plain": [
       "NOC\n",
       "Afghanistan                 2\n",
       "Albania                     2\n",
       "Algeria                   -27\n",
       "American Samoa              1\n",
       "Andorra                    -3\n",
       "                           ..\n",
       "Virgin Islands, British    -1\n",
       "Virgin Islands, US         -3\n",
       "Yemen                       0\n",
       "Zambia                     22\n",
       "Zimbabwe                  -30\n",
       "Length: 200, dtype: int64"
      ]
     },
     "execution_count": 41,
     "metadata": {},
     "output_type": "execute_result"
    }
   ],
   "source": [
    "tokyo_counter.sort_index() - rio_counter.sort_index()"
   ]
  },
  {
   "cell_type": "code",
   "execution_count": 48,
   "id": "e403ef41",
   "metadata": {},
   "outputs": [],
   "source": [
    "from scipy.stats import ks_2samp"
   ]
  },
  {
   "cell_type": "code",
   "execution_count": 54,
   "id": "07196cb3",
   "metadata": {},
   "outputs": [
    {
     "data": {
      "text/plain": [
       "KstestResult(statistic=0.115, pvalue=0.0710610696373133)"
      ]
     },
     "execution_count": 54,
     "metadata": {},
     "output_type": "execute_result"
    }
   ],
   "source": [
    "rio_list = rio_counter.sort_index().tolist()\n",
    "tokyo_list = tokyo_counter.sort_index().tolist()\n",
    "\n",
    "ks_2samp(rio_list, tokyo_list, alternative='less')"
   ]
  },
  {
   "cell_type": "code",
   "execution_count": null,
   "id": "8b93239b",
   "metadata": {},
   "outputs": [],
   "source": []
  }
 ],
 "metadata": {
  "kernelspec": {
   "display_name": "Python 3 (ipykernel)",
   "language": "python",
   "name": "python3"
  },
  "language_info": {
   "codemirror_mode": {
    "name": "ipython",
    "version": 3
   },
   "file_extension": ".py",
   "mimetype": "text/x-python",
   "name": "python",
   "nbconvert_exporter": "python",
   "pygments_lexer": "ipython3",
   "version": "3.7.0"
  }
 },
 "nbformat": 4,
 "nbformat_minor": 5
}
